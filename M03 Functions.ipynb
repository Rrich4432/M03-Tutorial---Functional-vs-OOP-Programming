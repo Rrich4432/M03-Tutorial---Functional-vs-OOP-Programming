{
 "cells": [
  {
   "cell_type": "code",
   "execution_count": 4,
   "id": "bf344b17",
   "metadata": {},
   "outputs": [],
   "source": [
    "def vol(rad):\n",
    "    return 4/3 * 3.14 * rad** 3"
   ]
  },
  {
   "cell_type": "code",
   "execution_count": 6,
   "id": "654f3200",
   "metadata": {},
   "outputs": [
    {
     "data": {
      "text/plain": [
       "33.49333333333333"
      ]
     },
     "execution_count": 6,
     "metadata": {},
     "output_type": "execute_result"
    }
   ],
   "source": [
    "# Check\n",
    "vol(2)"
   ]
  },
  {
   "cell_type": "code",
   "execution_count": 11,
   "id": "c4a57e48",
   "metadata": {},
   "outputs": [],
   "source": [
    "def ran_check(num, low, high):\n",
    "    if num >= low and num <= high:\n",
    "        print(f\"{num} is in the range between {low} and {high}\")\n",
    "    else:\n",
    "        print(f\"{num} is not the range between {low} and {high}\")"
   ]
  },
  {
   "cell_type": "code",
   "execution_count": 14,
   "id": "fa1ffcf8",
   "metadata": {},
   "outputs": [
    {
     "name": "stdout",
     "output_type": "stream",
     "text": [
      "5 is in the range between 2 and 7\n"
     ]
    }
   ],
   "source": [
    "# Check\n",
    "ran_check(5, 2, 7)"
   ]
  },
  {
   "cell_type": "code",
   "execution_count": 16,
   "id": "d3af8ad6",
   "metadata": {},
   "outputs": [],
   "source": [
    "def ran_bool(num, low, high):\n",
    "    if num >= low and num <= high:\n",
    "        return True\n",
    "    else:\n",
    "        return False"
   ]
  },
  {
   "cell_type": "code",
   "execution_count": 19,
   "id": "f84712a7",
   "metadata": {},
   "outputs": [
    {
     "data": {
      "text/plain": [
       "True"
      ]
     },
     "execution_count": 19,
     "metadata": {},
     "output_type": "execute_result"
    }
   ],
   "source": [
    "# Check\n",
    "ran_bool(3, 1, 10)"
   ]
  },
  {
   "cell_type": "code",
   "execution_count": 29,
   "id": "624f335c",
   "metadata": {},
   "outputs": [],
   "source": [
    "def up_low(s):\n",
    "    upper_case = 0\n",
    "    lower_case = 0\n",
    "    for letter in s:\n",
    "        if letter.isupper():\n",
    "            upper_case += 1\n",
    "        elif letter.islower():\n",
    "            lower_case += 1\n",
    "    \n",
    "    print(f\"Original String : {s}\")\n",
    "    print(f\"No. of Upper case characters : {upper_case}\")\n",
    "    print(f\"No. of Lower case characters : {lower_case}\")"
   ]
  },
  {
   "cell_type": "code",
   "execution_count": 30,
   "id": "70c0e454",
   "metadata": {},
   "outputs": [
    {
     "name": "stdout",
     "output_type": "stream",
     "text": [
      "Original String : Hello Mr. Rogers, how are you this fine Tuesday?\n",
      "No. of Upper case characters : 4\n",
      "No. of Lower case characters : 33\n"
     ]
    }
   ],
   "source": [
    "s = \"Hello Mr. Rogers, how are you this fine Tuesday?\"\n",
    "up_low(s)"
   ]
  },
  {
   "cell_type": "code",
   "execution_count": 52,
   "id": "fe365bc2",
   "metadata": {},
   "outputs": [],
   "source": [
    "def unique_list(lst):\n",
    "    return list(set(lst))"
   ]
  },
  {
   "cell_type": "code",
   "execution_count": 53,
   "id": "1372480d",
   "metadata": {},
   "outputs": [
    {
     "data": {
      "text/plain": [
       "[1, 2, 3, 4, 5]"
      ]
     },
     "execution_count": 53,
     "metadata": {},
     "output_type": "execute_result"
    }
   ],
   "source": [
    "unique_list([1,1,1,1,2,2,3,3,3,3,4,5])"
   ]
  },
  {
   "cell_type": "code",
   "execution_count": 67,
   "id": "86bac83a",
   "metadata": {},
   "outputs": [],
   "source": [
    "def multiply(numbers):\n",
    "    last_number = 1\n",
    "    for number in numbers:\n",
    "        last_number = last_number * number       \n",
    "        \n",
    "    print(last_number)"
   ]
  },
  {
   "cell_type": "code",
   "execution_count": 68,
   "id": "69b6fda6",
   "metadata": {},
   "outputs": [
    {
     "name": "stdout",
     "output_type": "stream",
     "text": [
      "-24\n"
     ]
    }
   ],
   "source": [
    "multiply([1, 2, 3, -4])"
   ]
  },
  {
   "cell_type": "code",
   "execution_count": 75,
   "id": "40dcee35",
   "metadata": {},
   "outputs": [],
   "source": [
    "def palindrome(s):\n",
    "    if \" \" in s:\n",
    "        s = s.replace(\" \", \"\")\n",
    "    palindrome = reversed(s)\n",
    "    for letter, rev_letter in zip(s, palindrome):\n",
    "        if letter != rev_letter:\n",
    "            return False\n",
    "    return True"
   ]
  },
  {
   "cell_type": "code",
   "execution_count": 77,
   "id": "5c977471",
   "metadata": {},
   "outputs": [
    {
     "data": {
      "text/plain": [
       "True"
      ]
     },
     "execution_count": 77,
     "metadata": {},
     "output_type": "execute_result"
    }
   ],
   "source": [
    "palindrome(\"helleh\")"
   ]
  },
  {
   "cell_type": "code",
   "execution_count": 84,
   "id": "71a8233f",
   "metadata": {},
   "outputs": [],
   "source": [
    "import string\n",
    "\n",
    "def ispangram(str1, alphabet = string.ascii_lowercase):\n",
    "    return set(alphabet) <= set(str1.lower())"
   ]
  },
  {
   "cell_type": "code",
   "execution_count": 85,
   "id": "c4b4d446",
   "metadata": {},
   "outputs": [
    {
     "data": {
      "text/plain": [
       "True"
      ]
     },
     "execution_count": 85,
     "metadata": {},
     "output_type": "execute_result"
    }
   ],
   "source": [
    "ispangram(\"The quick brown fox jumps over the lazy dog\")"
   ]
  },
  {
   "cell_type": "code",
   "execution_count": null,
   "id": "f9f01227",
   "metadata": {},
   "outputs": [],
   "source": []
  }
 ],
 "metadata": {
  "kernelspec": {
   "display_name": "Python 3 (ipykernel)",
   "language": "python",
   "name": "python3"
  },
  "language_info": {
   "codemirror_mode": {
    "name": "ipython",
    "version": 3
   },
   "file_extension": ".py",
   "mimetype": "text/x-python",
   "name": "python",
   "nbconvert_exporter": "python",
   "pygments_lexer": "ipython3",
   "version": "3.9.13"
  }
 },
 "nbformat": 4,
 "nbformat_minor": 5
}
